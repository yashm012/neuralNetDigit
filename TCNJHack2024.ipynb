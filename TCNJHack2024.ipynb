{
  "nbformat": 4,
  "nbformat_minor": 0,
  "metadata": {
    "colab": {
      "provenance": []
    },
    "kernelspec": {
      "name": "python3",
      "display_name": "Python 3"
    },
    "language_info": {
      "name": "python"
    }
  },
  "cells": [
    {
      "cell_type": "code",
      "execution_count": 37,
      "metadata": {
        "id": "ZboQ_7WlgyDG",
        "colab": {
          "base_uri": "https://localhost:8080/",
          "height": 430
        },
        "outputId": "fac025b5-de26-4570-e1d1-2be2837cd3a5"
      },
      "outputs": [
        {
          "output_type": "display_data",
          "data": {
            "text/plain": [
              "<Figure size 640x480 with 1 Axes>"
            ],
            "image/png": "[encoded data removed]"
          },
          "metadata": {}
        }
      ],
      "source": [
        "import numpy as np\n",
        "import matplotlib.pyplot as plt\n",
        "import random\n",
        "\n",
        "\n",
        "f = open('/content/train-images.idx3-ubyte','rb')\n",
        "\n",
        "image_size = 28\n",
        "num_images = 5\n",
        "\n",
        "f.read(16)\n",
        "buf = f.read(image_size * image_size * num_images)\n",
        "data = np.frombuffer(buf, dtype=np.uint8).astype(np.float32)\n",
        "data = data.reshape(num_images, image_size, image_size, 1)\n",
        "\n",
        "image = np.asarray(data[2]).squeeze()\n",
        "plt.imshow(image)\n",
        "plt.show()"
      ]
    },
    {
      "cell_type": "code",
      "source": [
        "class Network(object):\n",
        "\n",
        "    def __init__(self, sizes):\n",
        "\n",
        "      self.size = sizes # number of neurons per layer\n",
        "      self.num_layer = len(sizes) # number of layers\n",
        "\n",
        "      # assigns a random bias to each neuron in a layer not including the initial layer\n",
        "      self.biases = [np.random.randn(y, 1) for y in sizes[1:]]\n",
        "      # assigns a random weight to each neuron\n",
        "      self.weights = [np.random.randn(y, x) for x, y in zip(sizes[:-1], sizes[1:])]\n",
        "\n",
        "    # normalizes values between 0 and 1\n",
        "    def sigmoid(z):\n",
        "      return 1.0/(1.0+np.exp(-z))\n",
        "\n",
        "    # applies the equation sigmoid(wa + b) to every layer\n",
        "    def feedforward(self, a):\n",
        "          for b, w in zip(self.biases, self.weights):\n",
        "              a = sigmoid(np.dot(w, a)+b)\n",
        "          return a\n",
        "\n",
        "    # implements stochastic gradient descent\n",
        "    def SGD(self, training_data, epochs, mini_batch_size, eta, test_data=None):\n",
        "\n",
        "      if test_data:\n",
        "        n_test = len(test_data)\n",
        "      n = len(training_data)\n",
        "\n",
        "      for j in range(epochs): # executes for as many epochs specified\n",
        "        random.shuffle(training_data)\n",
        "\n",
        "        # creates a list of the mini batches from the training data\n",
        "        mini_batchs =[\n",
        "            training_data[k:k + mini_batch_size]\n",
        "            for k in range(0, n, mini_batch_size)]\n",
        "\n",
        "        for mini_batch in mini_batchs:\n",
        "          self.update_mini_batch(mini_batch, eta)\n",
        "        if test_data:\n",
        "                  print.format(\n",
        "                      j, self.evaluate(test_data), n_test) # \"Epoch {0}: {1} / {2}\"\n",
        "        else:\n",
        "            print.format(j) # \"Epoch {0} complete\"\n",
        "\n",
        "\n",
        "    def update_mini_batch(self, mini_batch, eta):\n",
        "        \"\"\"Update the network's weights and biases by applying\n",
        "        gradient descent using backpropagation to a single mini batch.\n",
        "        The ``mini_batch`` is a list of tuples ``(x, y)``, and ``eta``\n",
        "        is the learning rate.\"\"\"\n",
        "        nabla_b = [np.zeros(b.shape) for b in self.biases]\n",
        "        nabla_w = [np.zeros(w.shape) for w in self.weights]\n",
        "        for x, y in mini_batch:\n",
        "            delta_nabla_b, delta_nabla_w = self.backprop(x, y)\n",
        "            nabla_b = [nb+dnb for nb, dnb in zip(nabla_b, delta_nabla_b)]\n",
        "            nabla_w = [nw+dnw for nw, dnw in zip(nabla_w, delta_nabla_w)]\n",
        "        self.weights = [w-(eta/len(mini_batch))*nw\n",
        "                        for w, nw in zip(self.weights, nabla_w)]\n",
        "        self.biases = [b-(eta/len(mini_batch))*nb\n",
        "                       for b, nb in zip(self.biases, nabla_b)]\n",
        "\n",
        "    def backprop(self, x, y):\n",
        "        \"\"\"Return a tuple ``(nabla_b, nabla_w)`` representing the\n",
        "        gradient for the cost function C_x.  ``nabla_b`` and\n",
        "        ``nabla_w`` are layer-by-layer lists of numpy arrays, similar\n",
        "        to ``self.biases`` and ``self.weights``.\"\"\"\n",
        "        nabla_b = [np.zeros(b.shape) for b in self.biases]\n",
        "        nabla_w = [np.zeros(w.shape) for w in self.weights]\n",
        "        # feedforward\n",
        "        activation = x\n",
        "        activations = [x] # list to store all the activations, layer by layer\n",
        "        zs = [] # list to store all the z vectors, layer by layer\n",
        "        for b, w in zip(self.biases, self.weights):\n",
        "            z = np.dot(w, activation)+b\n",
        "            zs.append(z)\n",
        "            activation = sigmoid(z)\n",
        "            activations.append(activation)\n",
        "        # backward pass\n",
        "        delta = self.cost_derivative(activations[-1], y) * \\\n",
        "            sigmoid_prime(zs[-1])\n",
        "        nabla_b[-1] = delta\n",
        "        nabla_w[-1] = np.dot(delta, activations[-2].transpose())\n",
        "        # Note that the variable l in the loop below is used a little\n",
        "        # differently to the notation in Chapter 2 of the book.  Here,\n",
        "        # l = 1 means the last layer of neurons, l = 2 is the\n",
        "        # second-last layer, and so on.  It's a renumbering of the\n",
        "        # scheme in the book, used here to take advantage of the fact\n",
        "        # that Python can use negative indices in lists.\n",
        "        for l in range(2, self.num_layers):\n",
        "            z = zs[-l]\n",
        "            sp = sigmoid_prime(z)\n",
        "            delta = np.dot(self.weights[-l+1].transpose(), delta) * sp\n",
        "            nabla_b[-l] = delta\n",
        "            nabla_w[-l] = np.dot(delta, activations[-l-1].transpose())\n",
        "        return (nabla_b, nabla_w)\n",
        "\n",
        "    def evaluate(self, test_data):\n",
        "        \"\"\"Return the number of test inputs for which the neural\n",
        "        network outputs the correct result. Note that the neural\n",
        "        network's output is assumed to be the index of whichever\n",
        "        neuron in the final layer has the highest activation.\"\"\"\n",
        "        test_results = [(np.argmax(self.feedforward(x)), y)\n",
        "                        for (x, y) in test_data]\n",
        "        return sum(int(x == y) for (x, y) in test_results)\n",
        "\n",
        "    def cost_derivative(self, output_activations, y):\n",
        "        \"\"\"Return the vector of partial derivatives \\partial C_x /\n",
        "        \\partial a for the output activations.\"\"\"\n",
        "        return (output_activations-y)\n"
      ],
      "metadata": {
        "id": "KZdttjxSZWBN"
      },
      "execution_count": 45,
      "outputs": []
    },
    {
      "cell_type": "code",
      "source": [
        "def sigmoid(z):\n",
        "    \"\"\"The sigmoid function.\"\"\"\n",
        "    return 1.0/(1.0+np.exp(-z))"
      ],
      "metadata": {
        "id": "oWbZAdil-1nD"
      },
      "execution_count": null,
      "outputs": []
    },
    {
      "cell_type": "code",
      "source": [
        "def sigmoid_prime(z):\n",
        "    \"\"\"Derivative of the sigmoid function.\"\"\"\n",
        "    return sigmoid(z)*(1-sigmoid(z))"
      ],
      "metadata": {
        "id": "JqnXhYL3-5HA"
      },
      "execution_count": null,
      "outputs": []
    },
    {
      "cell_type": "code",
      "source": [
        "def cost_function(expectedNum, actualNum):\n",
        "    difference = expectedNum - actualNum\n",
        "    cost = sum(difference ** 2)\n",
        "\n",
        "    return difference, cost"
      ],
      "metadata": {
        "id": "bpxvAwPc6NBp"
      },
      "execution_count": null,
      "outputs": []
    },
    {
      "cell_type": "code",
      "source": [
        "def train_one_iteration(model_inputs, last_cost:float):\n",
        "\n",
        "      if cost >= last_cost:\n",
        "          return False, cost\n",
        "      else:\n",
        "          model.slope += slope_update\n",
        "          model.intercept += intercept_update\n",
        "          return True, cost"
      ],
      "metadata": {
        "id": "CqOzXW-j9gLh"
      },
      "execution_count": null,
      "outputs": []
    },
    {
      "cell_type": "code",
      "source": [
        "def training_loop():\n",
        "    print(\"Training beginning...\")\n",
        "    last_cost = math.inf\n",
        "    continue_loop = True\n",
        "    while continue_loop:\n",
        "        continue_loop, last_cost = train_one_iteration(model_inputs = data[\"\"],\n",
        "                                                    expectedNum = data[\"\"],\n",
        "                                                    last_cost = last_cost)\n",
        "\n",
        "    print(\"Training complete.\")"
      ],
      "metadata": {
        "id": "j_MeGS8b9wIv"
      },
      "execution_count": null,
      "outputs": []
    }
  ]
}